{
 "cells": [
  {
   "cell_type": "code",
   "execution_count": 18,
   "id": "0379c6e3-ac93-4f95-8311-7ae6b27175c3",
   "metadata": {},
   "outputs": [],
   "source": [
    "# Define a list of numbers\n",
    "numbers = [5,3,7,9,2]"
   ]
  },
  {
   "cell_type": "markdown",
   "id": "7f3ab8a3-fe87-44ef-98e7-2e2c9cb8ba3f",
   "metadata": {
    "jp-MarkdownHeadingCollapsed": true
   },
   "source": [
    "# Define a list of numbers\n",
    "## Define a list of numbers\n",
    "### Define a list of numbers\n",
    "#### Define a list of numbers\n",
    "##### Define a list of numbers"
   ]
  },
  {
   "cell_type": "code",
   "execution_count": 6,
   "id": "1edd6302-d82c-4fdf-9f35-dee38217edbd",
   "metadata": {},
   "outputs": [],
   "source": [
    "# write the logic to calculate the sum of the numbers\n",
    "total_sum = sum(numbers)"
   ]
  },
  {
   "cell_type": "code",
   "execution_count": 8,
   "id": "7c1d4f20-d9b1-48e3-9726-79fb8734d22f",
   "metadata": {},
   "outputs": [
    {
     "data": {
      "text/plain": [
       "26"
      ]
     },
     "execution_count": 8,
     "metadata": {},
     "output_type": "execute_result"
    }
   ],
   "source": [
    "total_sum"
   ]
  },
  {
   "cell_type": "code",
   "execution_count": 10,
   "id": "93fa96aa-227f-4153-97fc-116d51ddf594",
   "metadata": {},
   "outputs": [
    {
     "name": "stdout",
     "output_type": "stream",
     "text": [
      "26\n"
     ]
    }
   ],
   "source": [
    "print(total_sum)"
   ]
  },
  {
   "cell_type": "markdown",
   "id": "d3b2d706-d7c5-4f40-a4cc-30f0fedb9cc5",
   "metadata": {
    "jp-MarkdownHeadingCollapsed": true
   },
   "source": [
    "# Define a tuple of numbers"
   ]
  },
  {
   "cell_type": "code",
   "execution_count": 21,
   "id": "ebc0e35d-b3ee-4c18-91db-e4331db36c7e",
   "metadata": {},
   "outputs": [
    {
     "data": {
      "text/plain": [
       "5"
      ]
     },
     "execution_count": 21,
     "metadata": {},
     "output_type": "execute_result"
    }
   ],
   "source": [
    "2 +3"
   ]
  },
  {
   "cell_type": "code",
   "execution_count": 23,
   "id": "cebc5900-4874-4dce-85a5-a63510015214",
   "metadata": {},
   "outputs": [
    {
     "data": {
      "text/plain": [
       "-2"
      ]
     },
     "execution_count": 23,
     "metadata": {},
     "output_type": "execute_result"
    }
   ],
   "source": [
    "7 - 9"
   ]
  },
  {
   "cell_type": "code",
   "execution_count": null,
   "id": "a75b7696-72a3-48ab-8790-3be612dfe80e",
   "metadata": {},
   "outputs": [],
   "source": []
  }
 ],
 "metadata": {
  "kernelspec": {
   "display_name": "Python 3 (ipykernel)",
   "language": "python",
   "name": "python3"
  },
  "language_info": {
   "codemirror_mode": {
    "name": "ipython",
    "version": 3
   },
   "file_extension": ".py",
   "mimetype": "text/x-python",
   "name": "python",
   "nbconvert_exporter": "python",
   "pygments_lexer": "ipython3",
   "version": "3.11.7"
  }
 },
 "nbformat": 4,
 "nbformat_minor": 5
}
